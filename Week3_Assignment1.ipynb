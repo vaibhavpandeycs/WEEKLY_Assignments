{
 "cells": [
  {
   "cell_type": "code",
   "execution_count": 1,
   "id": "27f18de1-b259-4a5b-b92b-b167c9769052",
   "metadata": {},
   "outputs": [
    {
     "name": "stdout",
     "output_type": "stream",
     "text": [
      "[1, 3, 5, 7, 9, 11, 13, 15, 17, 19, 21, 23, 25]\n"
     ]
    }
   ],
   "source": [
    "#Q1 Which keyword is used to create a function? Create a function to return a list of odd numbers in the range of 1 to 25.\n",
    "\n",
    "#A1 The keyword used to create a function in Python is \"def\"\n",
    "\n",
    "\n",
    "def get_odd_numbers():\n",
    "    \"\"\"Creating a function to find out odd numbers\"\"\"\n",
    "    odd_numbers = []\n",
    "    for num in range(1, 26):    # range in question is 1-25 but range execute n-1 so I have given range(1,26) \n",
    "        if num % 2 != 0:\n",
    "            odd_numbers.append(num)\n",
    "    return odd_numbers\n",
    "\n",
    "# Call the function and print the result\n",
    "result = get_odd_numbers()\n",
    "print(result)\n"
   ]
  },
  {
   "cell_type": "code",
   "execution_count": 18,
   "id": "c8e644ab-51f4-4e3b-8040-57d730a40c1e",
   "metadata": {},
   "outputs": [
    {
     "name": "stdout",
     "output_type": "stream",
     "text": [
      "6\n",
      "150\n",
      "15\n"
     ]
    },
    {
     "data": {
      "text/plain": [
       "{'name': 'John', 'age': 25, 'city': 'New York'}"
      ]
     },
     "execution_count": 18,
     "metadata": {},
     "output_type": "execute_result"
    }
   ],
   "source": [
    "#Q2. Why *args and **kwargs is used in some functions? Create a function each for *args and **kwargs to demonstrate their use.\n",
    "\n",
    "#A2  When we are unsure about the number of arguments to pass in the functions we uses *args & **kwargs\n",
    "\n",
    "#    *args  collects all the positional arguments into a tuple. \n",
    "#    Here's an example of a function that takes in any number of arguments using *args:\n",
    "def sum_values(*args):\n",
    "    total = 0\n",
    "    for i in args:\n",
    "        total += i\n",
    "    return total\n",
    "\n",
    "# Call the function with different numbers of arguments\n",
    "result1 = sum_values(1, 2, 3)\n",
    "result2 = sum_values(10, 20, 30, 40, 50)\n",
    "result3 = sum_values(5, 10)\n",
    "\n",
    "print(result1)  # Output: 6\n",
    "print(result2)  # Output: 150\n",
    "print(result3)  # Output: 15\n",
    "\n",
    "#  **kwargs allows us to pass a variable number of keyword arguments to a function. It collects all the keyword arguments into a dictionary. \n",
    "#  Here's an example:\n",
    "def print_details(**kwargs):\n",
    "    return(kwargs)\n",
    "\n",
    "# Call the function with different keyword arguments\n",
    "print_details(name=\"John\", age=25, city=\"New York\")\n"
   ]
  },
  {
   "cell_type": "code",
   "execution_count": 20,
   "id": "a2a607e1-388e-4b58-89ee-057eb61b153a",
   "metadata": {},
   "outputs": [
    {
     "name": "stdout",
     "output_type": "stream",
     "text": [
      "2\n",
      "4\n",
      "6\n",
      "8\n",
      "10\n"
     ]
    }
   ],
   "source": [
    "#Q3. What is an iterator in python? Name the method used to initialise the iterator object and the method\n",
    "#    used for iteration. Use these methods to print the first five elements of the given list [2, 4, 6, 8, 10, 12, 14,\n",
    "#    16, 18, 20]. \n",
    "\n",
    "#A3  In Python, an iterator is an object that allows you to iterate over collections of data, such as lists, tuples, dictionaries, and sets\n",
    "#    The __iter__() method is used to initialize an iterator object. It returns the iterator object itself. This method is called when the iterator is created.\n",
    "#    The __next__() method is used to fetch the next element from the iterator. It returns the next item in the sequence.\n",
    "\n",
    "my_list = [2, 4, 6, 8, 10, 12, 14, 16, 18, 20]\n",
    "\n",
    "# Initialize the iterator object\n",
    "my_iterator = iter(my_list)\n",
    "\n",
    "# Iterate over the first five elements\n",
    "for i in range(5):\n",
    "    element = next(my_iterator)\n",
    "    print(element)\n"
   ]
  },
  {
   "cell_type": "code",
   "execution_count": 23,
   "id": "f3664c2d-ca3a-47c2-b419-a8ebca5d8cbc",
   "metadata": {},
   "outputs": [
    {
     "name": "stdout",
     "output_type": "stream",
     "text": [
      "2\n",
      "4\n",
      "6\n",
      "8\n",
      "10\n"
     ]
    }
   ],
   "source": [
    "#Q4. What is a generator function in python? Why yield keyword is used? Give an example of a generator function.\n",
    "\n",
    "#A4 In Python, a generator function is a special type of function that generates a sequence of values using the yield keyword. \n",
    "#   The yield keyword is used in a generator function to define points at which the function should pause and yield a value to the caller. \n",
    "#   The use of a generator function with yield offers several benefits, including efficient memory usage, lazy evaluation, and the ability to generate an infinite sequence of values without storing them all in memory.\n",
    "\n",
    "def even_numbers():\n",
    "    num = 2\n",
    "    while True:\n",
    "        yield num\n",
    "        num += 2\n",
    "\n",
    "# Create a generator object\n",
    "even_gen = even_numbers()\n",
    "\n",
    "# Print the first five even numbers\n",
    "for i in range(5):\n",
    "    print(next(even_gen))\n"
   ]
  },
  {
   "cell_type": "code",
   "execution_count": 1,
   "id": "5856115c-37cb-49e0-a739-da931ace0b27",
   "metadata": {},
   "outputs": [
    {
     "name": "stdout",
     "output_type": "stream",
     "text": [
      "2\n",
      "3\n",
      "5\n",
      "7\n",
      "11\n",
      "13\n",
      "17\n",
      "19\n",
      "23\n",
      "29\n",
      "31\n",
      "37\n",
      "41\n",
      "43\n",
      "47\n",
      "53\n",
      "59\n",
      "61\n",
      "67\n",
      "71\n"
     ]
    }
   ],
   "source": [
    "#Q5. Create a generator function for prime numbers less than 1000. Use the next() method to print the first 20 prime numbers.\n",
    "\n",
    "#A5 \n",
    "def generate_primes():\n",
    "    primes = []\n",
    "    num = 2\n",
    "    while True:\n",
    "        if all(num % i != 0 for i in primes):\n",
    "            primes.append(num)\n",
    "            yield num\n",
    "        num += 1\n",
    "\n",
    "# Create a generator object\n",
    "prime_gen = generate_primes()\n",
    "\n",
    "# Print the first 20 prime numbers\n",
    "for i in range(20):\n",
    "    prime = next(prime_gen)\n",
    "    print(prime)\n"
   ]
  },
  {
   "cell_type": "code",
   "execution_count": 2,
   "id": "adcaca52-eb26-4e15-b0e6-c3850e71fe64",
   "metadata": {},
   "outputs": [
    {
     "name": "stdout",
     "output_type": "stream",
     "text": [
      "0\n",
      "1\n",
      "1\n",
      "2\n",
      "3\n",
      "5\n",
      "8\n",
      "13\n",
      "21\n",
      "34\n"
     ]
    }
   ],
   "source": [
    "# Q6. Write a python program to print the first 10 Fibonacci numbers using a while loop.\n",
    "# A6  Function to print the first 10 Fibonacci numbers\n",
    "def print_fibonacci():\n",
    "    n = 10  # Number of Fibonacci numbers to print\n",
    "    count = 0  # Counter variable\n",
    "    first_num, second_num = 0, 1  # Initial Fibonacci numbers\n",
    "\n",
    "    while count < n:\n",
    "        print(first_num)\n",
    "        temp = first_num + second_num\n",
    "        first_num = second_num\n",
    "        second_num = temp\n",
    "        count += 1\n",
    "\n",
    "# Call the function to print the Fibonacci numbers\n",
    "print_fibonacci()\n"
   ]
  },
  {
   "cell_type": "code",
   "execution_count": 22,
   "id": "2055fd7d-b356-4855-baa8-58fae4051583",
   "metadata": {},
   "outputs": [
    {
     "name": "stdout",
     "output_type": "stream",
     "text": [
      "['p', 'w', 's', 'k', 'i', 'l', 'l', 's']\n"
     ]
    }
   ],
   "source": [
    "#Q7. Write a List Comprehension to iterate through the given string: ‘pwskills’. Expected output: ['p', 'w', 's', 'k', 'i', 'l', 'l', 's']\n",
    "# A7 \n",
    "string = 'pwskills'\n",
    "result = [charstr for charstr in string ]\n",
    "print(result)"
   ]
  },
  {
   "cell_type": "code",
   "execution_count": 12,
   "id": "dd04c1ff-e427-4aa5-aa55-03d2887542f6",
   "metadata": {},
   "outputs": [
    {
     "name": "stdin",
     "output_type": "stream",
     "text": [
      "Enter a number:  242\n"
     ]
    },
    {
     "name": "stdout",
     "output_type": "stream",
     "text": [
      "242 is a palindrome\n"
     ]
    }
   ],
   "source": [
    "# Q8. Write a python program to check whether a given number is Palindrome or not using a while loop.\n",
    "# A8  \n",
    "def is_palindrome(number):\n",
    "    original_number = number\n",
    "    reversed_number = 0\n",
    "\n",
    "    while number > 0:\n",
    "        remainder = number % 10\n",
    "        reversed_number = (reversed_number * 10) + remainder\n",
    "        number //= 10\n",
    "\n",
    "    if original_number == reversed_number:\n",
    "        return True\n",
    "    else:\n",
    "        return False\n",
    "\n",
    "# Test the function\n",
    "num = int(input(\"Enter a number: \"))\n",
    "if is_palindrome(num):\n",
    "    print(f\"{num} is a palindrome\")\n",
    "else:\n",
    "    print(f\"{num} is not a palindrome\")\n"
   ]
  },
  {
   "cell_type": "code",
   "execution_count": 20,
   "id": "5b015ae1-9d25-488e-a1e3-c66a2836a2ea",
   "metadata": {},
   "outputs": [
    {
     "name": "stdout",
     "output_type": "stream",
     "text": [
      "[1, 3, 5, 7, 9, 11, 13, 15, 17, 19, 21, 23, 25, 27, 29, 31, 33, 35, 37, 39, 41, 43, 45, 47, 49, 51, 53, 55, 57, 59, 61, 63, 65, 67, 69, 71, 73, 75, 77, 79, 81, 83, 85, 87, 89, 91, 93, 95, 97, 99]\n"
     ]
    }
   ],
   "source": [
    "#Q9. Write a code to print odd numbers from 1 to 100 using list comprehension.\n",
    "#A9 \n",
    "l=  [num for num in range(1, 101)]\n",
    "#print(l) \n",
    "only_odd = [num for num in l if num % 2 == 1]\n",
    "print(only_odd)\n"
   ]
  }
 ],
 "metadata": {
  "kernelspec": {
   "display_name": "Python 3 (ipykernel)",
   "language": "python",
   "name": "python3"
  },
  "language_info": {
   "codemirror_mode": {
    "name": "ipython",
    "version": 3
   },
   "file_extension": ".py",
   "mimetype": "text/x-python",
   "name": "python",
   "nbconvert_exporter": "python",
   "pygments_lexer": "ipython3",
   "version": "3.10.8"
  }
 },
 "nbformat": 4,
 "nbformat_minor": 5
}
