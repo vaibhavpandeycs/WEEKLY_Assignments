{
 "cells": [
  {
   "cell_type": "code",
   "execution_count": 10,
   "id": "08cea8cb-01da-4eb4-b3e0-479ed9f9c8e2",
   "metadata": {},
   "outputs": [
    {
     "data": {
      "text/plain": [
       "' Ans1. Comments are meant to be read by humans and should provide meaningful explanations or insights into the code. Writing clear and concise comments can greatly enhance the readability and maintainability of our Python code. Comments are ignored by interpreter .\\n          To add a comment in Python, we uses the hash symbol (#) followed by the comment text. Everything after the hash symbol on the same line is treated as a comment and is ignored by the Python interpreter\\n          \\n          There are 2 types of Comments .\\n          1) Single Line comment - For sort comment or single line meaningful information we use it for Example \\n          \\n          x = 365 # assigning x to 365 (days in year) \\n          # Calculation no. of weeks in an year \\n          \\n          2) Multi-Line comment - These comments are used for longer explanations or comments that span multiple lines. We can achieve the same effect by using triple quotes (either single or double quotes)\\n             For Example\\n             This answer is in Multi-line comment\\n             \\n           Multi-line comments using triple quotes are treated as string literals and may occupy memory, so they are not typically used for large blocks of commented code. \\n           Instead, single-line comments are more commonly used . '"
      ]
     },
     "execution_count": 10,
     "metadata": {},
     "output_type": "execute_result"
    }
   ],
   "source": [
    "# Q1. How do you comment code in Python? What are the different types of comments?\n",
    "\n",
    "\"\"\" Ans1. Comments are meant to be read by humans and should provide meaningful explanations or insights into the code. Writing clear and concise comments can greatly enhance the readability and maintainability of our Python code. Comments are ignored by interpreter .\n",
    "          To add a comment in Python, we uses the hash symbol (#) followed by the comment text. Everything after the hash symbol on the same line is treated as a comment and is ignored by the Python interpreter\n",
    "          \n",
    "          There are 2 types of Comments .\n",
    "          1) Single Line comment - For sort comment or single line meaningful information we use it for Example \n",
    "          \n",
    "          x = 365 # assigning x to 365 (days in year) \n",
    "          # Calculation no. of weeks in an year \n",
    "          \n",
    "          2) Multi-Line comment - These comments are used for longer explanations or comments that span multiple lines. We can achieve the same effect by using triple quotes (either single or double quotes)\n",
    "             For Example\n",
    "             This answer is in Multi-line comment\n",
    "             \n",
    "           Multi-line comments using triple quotes are treated as string literals and may occupy memory, so they are not typically used for large blocks of commented code. \n",
    "           Instead, single-line comments are more commonly used . \"\"\"\n"
   ]
  },
  {
   "cell_type": "code",
   "execution_count": null,
   "id": "0f678945-0420-4683-a1d8-667d795088e5",
   "metadata": {},
   "outputs": [],
   "source": [
    "# Q2. What are variables in Python? How do you declare and assign values to variables?\n",
    "\n",
    "\"\"\" Ans2. In Python, variables are used to store data or values that can be referenced and manipulated throughout the program. A variable is essentially a named storage location in the computer's memory.\n",
    "          \n",
    "          To declare and assign a value to a variable in Python We simply use the assignment operator (=) to assign a value to a variable\n",
    "          Variables in Python can be reassigned with a new value at any time\n",
    "          variable_name = value \n",
    "          \n",
    "          # Assigning an integer\n",
    "             age = 25\n",
    "\n",
    "          # Assigning a floating-point number\n",
    "             pi = 3.14159\n",
    "\n",
    "          # Assigning a string\n",
    "             name = \"John Doe\"\n",
    "\n",
    "          # Assigning a boolean\n",
    "             is_student = True      \"\"\""
   ]
  },
  {
   "cell_type": "code",
   "execution_count": 8,
   "id": "4f7fd84b-5d51-459c-8250-a4068424f423",
   "metadata": {},
   "outputs": [
    {
     "data": {
      "text/plain": [
       "bool"
      ]
     },
     "execution_count": 8,
     "metadata": {},
     "output_type": "execute_result"
    }
   ],
   "source": [
    "# Q3. How do you convert one data type to another in Python?\n",
    "\n",
    "\"\"\" Ans3. In Python, we can convert one data type to another using type conversion functions or by using the built-in constructors for specific data types. \n",
    "          \"\"\"\n",
    "\n",
    "num_str = \"10\"\n",
    "type(num_str)  #str\n",
    "num_str = int(num_str)\n",
    "type(num_str)    #int\n",
    "\n",
    "flt_str = \"3.14\"\n",
    "type(flt_str)  #str\n",
    "flt_str = float(flt_str)\n",
    "type(flt_str)\n",
    "\n",
    "bol_num = 1\n",
    "type(bol_num)  #int\n",
    "bol_num = bool(bol_num)\n",
    "type(bol_num)  #bool"
   ]
  },
  {
   "cell_type": "code",
   "execution_count": null,
   "id": "c83a3703-9f8a-4825-b4a7-d45b067b1b69",
   "metadata": {},
   "outputs": [],
   "source": [
    "# Q4. How do you write and execute a Python script from the command line?\n",
    "\n",
    "\"\"\" Ans4. To write and execute a Python script from the command line , follow below steps\n",
    "\n",
    "          1) Open a text editor and create a new file with a .py extension. for example first_cmd_prog.py\n",
    "          2) In the text editor, write Python code. For example, let's write a simple \"Hello, World!\" \n",
    "          3) Save the file and exit the text editor.\n",
    "          4) Open the command line or terminal.\n",
    "          5) Navigate to the directory where we saved the Python script using the cd command. \n",
    "          6) Once we are in the correct directory, we can execute the Python script by typing python followed by the name of the script file. For example: python first_cmd_prog.py\n",
    "          \n",
    "          This command will execute the Python script, and we will see the output printed to the console:\n",
    "             Hello, World!"
   ]
  },
  {
   "cell_type": "code",
   "execution_count": 11,
   "id": "ebc9aa8e-c39c-459c-9857-5175fcf23d9a",
   "metadata": {},
   "outputs": [
    {
     "name": "stdout",
     "output_type": "stream",
     "text": [
      "[2, 3]\n"
     ]
    }
   ],
   "source": [
    "# Q5. Given a list my_list = [1, 2, 3, 4, 5], write the code to slice the list and obtain the sub-list [2, 3].\n",
    "# Ans5. \n",
    "\n",
    "my_list = [1, 2, 3, 4, 5]\n",
    "sub_list = my_list[1:3]\n",
    "print(sub_list)"
   ]
  },
  {
   "cell_type": "code",
   "execution_count": 19,
   "id": "12524ec7-2f7c-4f90-a40c-d512b4faa648",
   "metadata": {},
   "outputs": [
    {
     "name": "stdout",
     "output_type": "stream",
     "text": [
      "2.0\n",
      "3.0\n"
     ]
    }
   ],
   "source": [
    "# Q6. What is a complex number in mathematics, and how is it represented in Python?\n",
    "\"\"\" Ans6.  In mathematics, a complex number is a number that comprises both a real part and an imaginary part. It is represented in the form \"a + bi,\" where \"a\" is the real part, \"b\" is the imaginary part, and \"i\" represents the imaginary unit .\n",
    "\n",
    "           In Python, complex numbers are supported as a built-in data type. They are represented by using the j or J suffix to indicate the imaginary part. The real and imaginary parts can be either integers or floating-point numbers.\n",
    "           FOr Example \n",
    "             # Complex number with integer real and imaginary parts\n",
    "                 z1 = 2 + 3j\n",
    "\n",
    "             # Complex number with floating-point real and imaginary parts\n",
    "                 z2 = 1.5 - 2.5j   \"\"\"\n",
    "\n",
    "z1 = 2 + 3j\n",
    "print(z1.real)  #2.0\n",
    "print(z1.imag)  #3.0\n"
   ]
  },
  {
   "cell_type": "code",
   "execution_count": 18,
   "id": "5a3d78e9-c161-4846-a887-c033283e842a",
   "metadata": {
    "tags": []
   },
   "outputs": [
    {
     "name": "stdout",
     "output_type": "stream",
     "text": [
      "25\n"
     ]
    }
   ],
   "source": [
    "# Q7. What is the correct way to declare a variable named age and assign the value 25 to it?\n",
    "# ANS7.  Declare a variable name in such as way which itself explain what this variable is storing for Example variable name age and using assignment operater we assign value 25 to it .\n",
    "\n",
    "age = 25\n",
    "print(age)"
   ]
  },
  {
   "cell_type": "code",
   "execution_count": 15,
   "id": "50ca2058-e264-45fa-81f5-4858ee3553a2",
   "metadata": {},
   "outputs": [
    {
     "data": {
      "text/plain": [
       "float"
      ]
     },
     "execution_count": 15,
     "metadata": {},
     "output_type": "execute_result"
    }
   ],
   "source": [
    "#Q8. Declare a variable named price and assign the value 9.99 to it. What data type does this variable belong to?\n",
    "\"\"\" ANS8. If we declare a variable named ''price and assign the value 9.99 to it , the variable 'price' belongs to the data type float.\n",
    "          In Python, a value with a decimal point is considered a floating-point number. \"\"\"\n",
    "price = 9.99\n",
    "type(price)"
   ]
  },
  {
   "cell_type": "code",
   "execution_count": 17,
   "id": "23ab414b-d9a9-4057-9299-979f7710ff2e",
   "metadata": {},
   "outputs": [
    {
     "name": "stdout",
     "output_type": "stream",
     "text": [
      "Vaibhav Pandey\n"
     ]
    }
   ],
   "source": [
    "# Q9. Create a variable named name and assign your full name to it as a string. How would you print the value of this variable?\n",
    "# Ans9 By using the print() function, we can easily display the value of the name variable or any other variable in Python.\n",
    "name = \"Vaibhav Pandey\"\n",
    "print(name)"
   ]
  },
  {
   "cell_type": "code",
   "execution_count": 20,
   "id": "61239be2-66e5-4eb6-a342-400bfb3e8cc4",
   "metadata": {},
   "outputs": [
    {
     "name": "stdout",
     "output_type": "stream",
     "text": [
      "World\n"
     ]
    }
   ],
   "source": [
    "# Q10. Given the string \"Hello, World!\", extract the substring \"World\".\n",
    "# Ans10  To extract the substring \"World\" from the string \"Hello, World!\", WE can use string slicing in Python.\n",
    "\n",
    "my_string = \"Hello, World!\"\n",
    "substring = my_string[7:12]\n",
    "print(substring)"
   ]
  },
  {
   "cell_type": "code",
   "execution_count": 23,
   "id": "e904e951-812c-434d-a963-f885039b84eb",
   "metadata": {},
   "outputs": [],
   "source": [
    "# Q11. Create a variable named \"is_student\" and assign it a boolean value indicating whether you are currently a student or not.\n",
    "# Ans11. To create a variable named is_student and assign it a boolean value indicating whether I am currently a student or not, I can use the following code:\n",
    "is_student = True\n",
    "# type(is_student) #bool\n",
    "\n",
    "#  In this example, the variable is_student is assigned the boolean value True, indicating that I am currently a student. If I am not a student, I can assign the value False instead:\n",
    "is_student = False\n",
    "# type(is_student) #bool"
   ]
  }
 ],
 "metadata": {
  "kernelspec": {
   "display_name": "Python 3 (ipykernel)",
   "language": "python",
   "name": "python3"
  },
  "language_info": {
   "codemirror_mode": {
    "name": "ipython",
    "version": 3
   },
   "file_extension": ".py",
   "mimetype": "text/x-python",
   "name": "python",
   "nbconvert_exporter": "python",
   "pygments_lexer": "ipython3",
   "version": "3.10.8"
  }
 },
 "nbformat": 4,
 "nbformat_minor": 5
}
