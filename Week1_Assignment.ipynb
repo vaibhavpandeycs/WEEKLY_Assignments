{
 "cells": [
  {
   "cell_type": "code",
   "execution_count": 28,
   "id": "ef5c4633-ccbe-44aa-80a2-ab43d27260ea",
   "metadata": {},
   "outputs": [
    {
     "data": {
      "text/plain": [
       "tuple"
      ]
     },
     "execution_count": 28,
     "metadata": {},
     "output_type": "execute_result"
    }
   ],
   "source": [
    "#Q1. Create one variable containing following type of data:\n",
    "    #(i)\tstring\n",
    "var_string = \"First Assignment String Variable\"\n",
    "type(var_string)\n",
    "    #(ii)\tlist\n",
    "var_list = [1,33,\"vaibhav\",5]\n",
    "type(var_list)\n",
    "    #(iii)\tfloat\n",
    "var_float = 5.5\n",
    "type(var_float)\n",
    "\n",
    "    #(iv)\ttuple\n",
    "var_tuple =   (1,33,\"vaibhav\",5,4.4,[1,2,3])  \n",
    "type(var_tuple)"
   ]
  },
  {
   "cell_type": "code",
   "execution_count": 42,
   "id": "e9126648-1ae8-4fd8-8f95-ae611ff9029a",
   "metadata": {},
   "outputs": [
    {
     "data": {
      "text/plain": [
       "float"
      ]
     },
     "execution_count": 42,
     "metadata": {},
     "output_type": "execute_result"
    }
   ],
   "source": [
    "#Q2. Given are some following variables containing data:\n",
    "\n",
    "var1 = '  '\n",
    "type(var1)\n",
    "#str\n",
    "\n",
    "var2 = '[ DS , ML , Python]'\n",
    "type(var2)\n",
    "#str\n",
    "\n",
    "var3 = [ 'DS' , 'ML' , 'Python' ]\n",
    "type(var3)\n",
    "#list\n",
    "\n",
    "var4 = 1.\n",
    "type(var4)\n",
    "#float\n",
    "\n",
    "#What will be the data type of the above given variable"
   ]
  },
  {
   "cell_type": "code",
   "execution_count": 52,
   "id": "1c32648f-667a-42e1-ad66-f8b077063833",
   "metadata": {},
   "outputs": [
    {
     "data": {
      "text/plain": [
       "81"
      ]
     },
     "execution_count": 52,
     "metadata": {},
     "output_type": "execute_result"
    }
   ],
   "source": [
    "#Q3. Explain the use of the following operators using an example:\n",
    "\n",
    "#(i)\t/  Division Operator returns the float value when 1 number divided from another\n",
    "var = 3/2\n",
    "var\n",
    "#(ii)\t% Modulus, returns the remainder when 1 number divided by another\n",
    "var1 = 5%2\n",
    "var1\n",
    "\n",
    "\n",
    "#(iii)\t// Division , returns the Floor value when 1 number divided by another\n",
    "var3 = 7//2\n",
    "var3\n",
    "\n",
    "#(iv)\t** Power : Returns power to 1 number to another\n",
    "var4 = 3**4\n",
    "var4"
   ]
  },
  {
   "cell_type": "code",
   "execution_count": 55,
   "id": "85cdb56f-8921-48ea-b4ac-feaaa39ade0a",
   "metadata": {},
   "outputs": [
    {
     "name": "stdout",
     "output_type": "stream",
     "text": [
      "1\n",
      "<class 'int'>\n",
      "4\n",
      "<class 'int'>\n",
      "4.3\n",
      "<class 'float'>\n",
      "10\n",
      "<class 'int'>\n",
      "[1, 2, 3]\n",
      "<class 'list'>\n",
      "Vaibhav\n",
      "<class 'str'>\n",
      "PW\n",
      "<class 'str'>\n",
      "a\n",
      "<class 'str'>\n",
      "b\n",
      "<class 'str'>\n",
      "100\n",
      "<class 'int'>\n"
     ]
    }
   ],
   "source": [
    "#Q4. Create a list of length 10 of your choice containing multiple types of data. Using for loop print the\n",
    "#    element and its data type.\n",
    "\n",
    "var_list = [1,4,4.3,10,[1,2,3],\"Vaibhav\",\"PW\",\"a\",\"b\",100]\n",
    "for i in var_list  :\n",
    "    print(i)\n",
    "    print(type(i))"
   ]
  },
  {
   "cell_type": "code",
   "execution_count": 7,
   "id": "aab4ab97-befc-4a68-b77b-53a4ab10688f",
   "metadata": {},
   "outputs": [
    {
     "name": "stdout",
     "output_type": "stream",
     "text": [
      "Number A is purely divisible by number B\n",
      "Number A is Divided by number B  1.0  Times\n",
      "Number A is purely divisible by number B\n",
      "Number A is Divided by number B  2.0  Times\n",
      "Number A is purely divisible by number B\n",
      "Number A is Divided by number B  3.0  Times\n",
      "Number A is purely divisible by number B\n",
      "Number A is Divided by number B  4.0  Times\n"
     ]
    }
   ],
   "source": [
    "#Q5. Using a while loop, verify if the number A is purely divisible by number B and if so then how many\n",
    "#times it can be divisible.\n",
    "\n",
    "a= 2\n",
    "b = 2\n",
    "while a < 10:\n",
    "    c=a%b\n",
    "    if c == 0:\n",
    "        print (\"Number A is purely divisible by number B\")\n",
    "        d = a/b\n",
    "        print (\"Number A is Divided by number B \",d,\" Times\")\n",
    "     \n",
    "    a += 1   \n",
    "    \n"
   ]
  },
  {
   "cell_type": "code",
   "execution_count": 21,
   "id": "cc7a1aa0-b4ae-4e63-89b1-4440720b5140",
   "metadata": {},
   "outputs": [
    {
     "name": "stdout",
     "output_type": "stream",
     "text": [
      "4  is not divided by 3\n",
      "6  is divided by 3\n",
      "3  is divided by 3\n",
      "8  is not divided by 3\n",
      "9  is divided by 3\n",
      "21  is divided by 3\n",
      "23  is not divided by 3\n",
      "24  is divided by 3\n",
      "25  is not divided by 3\n",
      "29  is not divided by 3\n",
      "29  is not divided by 3\n",
      "30  is divided by 3\n",
      "32  is not divided by 3\n",
      "33  is divided by 3\n",
      "34  is not divided by 3\n",
      "36  is divided by 3\n",
      "28  is not divided by 3\n",
      "29  is not divided by 3\n",
      "44  is not divided by 3\n",
      "35  is not divided by 3\n",
      "28  is not divided by 3\n",
      "22  is not divided by 3\n",
      "99  is divided by 3\n",
      "87  is divided by 3\n",
      "22  is not divided by 3\n"
     ]
    }
   ],
   "source": [
    "#Create a list containing 25 int type data. Using for loop and if-else condition print if the element is\n",
    "#divisible by 3 or not\n",
    "\n",
    "var_list = [4,6,3,8,9,21,23,24,25,29,29,30,32,33,34,36,28,29,44,35,28,22,99,87,22]\n",
    "for i in range(25):\n",
    "    c=var_list[i]%3\n",
    "    if c==0:\n",
    "        print(var_list[i],\" is divided by 3\")\n",
    "    else:\n",
    "        print(var_list[i],\" is not divided by 3\")\n",
    "                 "
   ]
  },
  {
   "cell_type": "code",
   "execution_count": 29,
   "id": "5f4960ef-730d-4bed-92e3-60fe315bf13b",
   "metadata": {},
   "outputs": [
    {
     "name": "stdout",
     "output_type": "stream",
     "text": [
      "['RED', 'GREEN', 'BLUE']\n",
      "['PINK', 'GREEN', 'YELLOW']\n",
      "DATA SCIENCE \n"
     ]
    },
    {
     "ename": "TypeError",
     "evalue": "'str' object does not support item assignment",
     "output_type": "error",
     "traceback": [
      "\u001b[0;31m---------------------------------------------------------------------------\u001b[0m",
      "\u001b[0;31mTypeError\u001b[0m                                 Traceback (most recent call last)",
      "Cell \u001b[0;32mIn[29], line 17\u001b[0m\n\u001b[1;32m     15\u001b[0m var_str \u001b[38;5;241m=\u001b[39m \u001b[38;5;124m\"\u001b[39m\u001b[38;5;124mDATA SCIENCE \u001b[39m\u001b[38;5;124m\"\u001b[39m\n\u001b[1;32m     16\u001b[0m \u001b[38;5;28mprint\u001b[39m(var_str)\n\u001b[0;32m---> 17\u001b[0m \u001b[43mvar_str\u001b[49m\u001b[43m[\u001b[49m\u001b[38;5;241;43m0\u001b[39;49m\u001b[43m]\u001b[49m \u001b[38;5;241m=\u001b[39m \u001b[38;5;124m\"\u001b[39m\u001b[38;5;124mM\u001b[39m\u001b[38;5;124m\"\u001b[39m\n\u001b[1;32m     18\u001b[0m \u001b[38;5;28mprint\u001b[39m(var_str)\n\u001b[1;32m     20\u001b[0m var_tupple \u001b[38;5;241m=\u001b[39m (\u001b[38;5;241m0\u001b[39m,\u001b[38;5;241m2\u001b[39m,\u001b[38;5;241m4\u001b[39m,\u001b[38;5;241m6\u001b[39m)\n",
      "\u001b[0;31mTypeError\u001b[0m: 'str' object does not support item assignment"
     ]
    }
   ],
   "source": [
    "#Q7. What do you understand about mutable and immutable data types? Give examples for both showing\n",
    "#this property.\n",
    "\n",
    "# ANSWER - MUTABLE DATA TYPES Can Change their index value, state or Content Eg List , Dict , set where as IMMUTABLE DATA tYPE cannot Change there index value ,state or content Eg : String,INT , FLOAT , BOOL, Tuple , Let get into it with Practical \n",
    "\n",
    "#MUTABLE DATA TYPE\n",
    "\n",
    "color = [\"RED\",\"GREEN\",\"BLUE\"]\n",
    "print (color)\n",
    "color[0] = \"PINK\"\n",
    "color[-1] = \"YELLOW\"\n",
    "print(color)\n",
    "\n",
    "#IMMUTABLE DATA TYPE \n",
    "var_str = \"DATA SCIENCE \"\n",
    "print(var_str)\n",
    "var_str[0] = \"M\"\n",
    "print(var_str)\n",
    "\n",
    "var_tupple = (0,2,4,6)\n",
    "print(var_tupple)\n",
    "var_tupple[0] = 7\n",
    "print(var_tupple)\n",
    "\n",
    "# SO We cannot change Index value of IMMUTABLE data type but we can assign new value to it , but in Case of Mutable data type we can change Idex value "
   ]
  }
 ],
 "metadata": {
  "kernelspec": {
   "display_name": "Python 3 (ipykernel)",
   "language": "python",
   "name": "python3"
  },
  "language_info": {
   "codemirror_mode": {
    "name": "ipython",
    "version": 3
   },
   "file_extension": ".py",
   "mimetype": "text/x-python",
   "name": "python",
   "nbconvert_exporter": "python",
   "pygments_lexer": "ipython3",
   "version": "3.10.8"
  }
 },
 "nbformat": 4,
 "nbformat_minor": 5
}
